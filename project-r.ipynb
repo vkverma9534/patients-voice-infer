{
 "cells": [
  {
   "cell_type": "code",
   "execution_count": 4,
   "id": "2b477f21-96a5-497b-b956-68739f728f58",
   "metadata": {},
   "outputs": [],
   "source": [
    "import os\n",
    "import pandas as pd\n",
    "import sounddevice as sd\n",
    "from scipy.io.wavfile import write\n",
    "import whisper\n",
    "import requests\n",
    "\n",
    "info = {\n",
    "    \"Names\": [],\n",
    "    \"Age\": [],\n",
    "    \"Gender\": [],\n",
    "    \"Symptoms\": [],\n",
    "    \"token no.\": [],\n",
    "    \"Doctor\": []\n",
    "}\n",
    "token = 100000\n"
   ]
  },
  {
   "cell_type": "code",
   "execution_count": 6,
   "id": "085b31f9-1a22-47f0-8af9-39ac4129ee90",
   "metadata": {},
   "outputs": [
    {
     "name": "stdout",
     "output_type": "stream",
     "text": [
      "Please speak now...\n",
      "Please wait while we are processing...\n"
     ]
    },
    {
     "name": "stderr",
     "output_type": "stream",
     "text": [
      "C:\\Users\\vkver\\whisper_env\\Lib\\site-packages\\whisper\\transcribe.py:126: UserWarning: FP16 is not supported on CPU; using FP32 instead\n",
      "  warnings.warn(\"FP16 is not supported on CPU; using FP32 instead\")\n"
     ]
    },
    {
     "name": "stdout",
     "output_type": "stream",
     "text": [
      "Name: LISHANT WARMA\n",
      "Age: 15\n",
      "Gender: MALE\n",
      "Symptoms: EXTREME JOINT PAIN\n"
     ]
    },
    {
     "name": "stdin",
     "output_type": "stream",
     "text": [
      "Are these information correct (press y for yes and n for no):  n\n"
     ]
    },
    {
     "name": "stdout",
     "output_type": "stream",
     "text": [
      "Sorry for the inconvenience! Please tell your details again.\n",
      "Please speak now...\n",
      "Please wait while we are processing...\n",
      "Name: NISHANT VERMA\n",
      "Age: 15\n",
      "Gender: MALE\n",
      "Symptoms: JOINT PAIN\n"
     ]
    },
    {
     "name": "stdin",
     "output_type": "stream",
     "text": [
      "Are these information correct (press y for yes and n for no):  y\n"
     ]
    },
    {
     "name": "stdout",
     "output_type": "stream",
     "text": [
      "Your doctor is:\n",
      "Dr. MNO (Orthopedist)\n",
      "Your token no.: P100001\n"
     ]
    }
   ],
   "source": [
    "def query(input):\n",
    "    prompt = f\"\"\"\n",
    "You are an information extraction engine.\n",
    "\n",
    "From the following patient message, extract:\n",
    "Name, Surname, Age, Gender, Symptoms\n",
    "\n",
    "Message:\n",
    "\\\"\\\"\\\"{input}\\\"\\\"\\\"\n",
    "\n",
    "Return output in exactly this one-line format:\n",
    "NAME SURNAME AGE GENDER SYMPTOM1 SYMPTOM2 ...\n",
    "\n",
    "Rules:\n",
    "- ONE line only — no line breaks.\n",
    "- Use CAPITAL LETTERS only.\n",
    "- Use only single spaces to separate items.\n",
    "- Do NOT return anything else. No labels, no punctuation.\n",
    "- Only return the final line.\n",
    "\"\"\"\n",
    "    response = requests.post(\n",
    "        \"http://localhost:11434/api/generate\",\n",
    "        json={\n",
    "            \"model\": \"mistral\",\n",
    "            \"prompt\": prompt,\n",
    "            \"stream\": False\n",
    "        }\n",
    "    )\n",
    "    return response.json()[\"response\"].strip()\n",
    "\n",
    "def assignment(symptoms):\n",
    "    prompt = f\"\"\"\n",
    "out of the given doctor that i am listing choose the appropriate doctor\n",
    "\\\"\\\"\\\"{symptoms}\\\"\\\"\\\"\n",
    "Dr. ABC (Cardiologist)\n",
    "Dr. DEF (Neurologist)\n",
    "Dr. GHI (Pulmonologist)\n",
    "Dr. JKL (Gastroenterologist)\n",
    "Dr. MNO (Orthopedists)\n",
    "Dr. PQR (General Physician)\n",
    "\n",
    "your result should be as follows \n",
    "Dr. ___ (specialty)\n",
    "\"\"\"\n",
    "    response = requests.post(\n",
    "        \"http://localhost:11434/api/generate\",\n",
    "        json={\n",
    "            \"model\": \"mistral\",\n",
    "            \"prompt\": prompt,\n",
    "            \"stream\": False\n",
    "        }\n",
    "    )\n",
    "    return response.json()[\"response\"].strip()\n",
    "\n",
    "while True:\n",
    "    duration = 15\n",
    "    filename = \"patient_voice.wav\"\n",
    "\n",
    "    print(\"Please speak now...\")\n",
    "    audio = sd.rec(frames=duration * 44100, samplerate=44100, channels=1, dtype='int16')\n",
    "    sd.wait()\n",
    "    write(filename, 44100, audio)\n",
    "\n",
    "    print(\"Please wait while we are processing...\")\n",
    "\n",
    "    model = whisper.load_model(\"base\")\n",
    "    result = model.transcribe(filename)\n",
    "    s = result[\"text\"]\n",
    "\n",
    "    details = query(s)\n",
    "    parts = details.split(\" \", 4)\n",
    "\n",
    "    name = parts[0] + \" \" + parts[1]\n",
    "    age = parts[2]\n",
    "    gender = parts[3]\n",
    "    symptoms = parts[4]\n",
    "\n",
    "    print(\"Name:\", name)\n",
    "    print(\"Age:\", age)\n",
    "    print(\"Gender:\", gender)\n",
    "    print(\"Symptoms:\", symptoms)\n",
    "\n",
    "    status = input(\"Are these information correct (press y for yes and n for no): \")\n",
    "    if status.lower() == 'y':\n",
    "        assigned = assignment(symptoms)\n",
    "        print(\"Your doctor is:\")\n",
    "        print(assigned)\n",
    "        print(f\"Your token no.: P{token}\")\n",
    "        info[\"Names\"].append(name)\n",
    "        info[\"Age\"].append(age)\n",
    "        info[\"Gender\"].append(gender)\n",
    "        info[\"Symptoms\"].append(symptoms)\n",
    "        info[\"token no.\"].append(\"P\" + str(token))\n",
    "        info[\"Doctor\"].append(assigned)\n",
    "        token += 1\n",
    "        break\n",
    "    else:\n",
    "        print(\"Sorry for the inconvenience! Please tell your details again.\")\n",
    "\n",
    "df = pd.DataFrame(info)\n",
    "\n",
    "df[df[\"Doctor\"] == \"Dr. ABC (Cardiologist)\"].to_csv(\"Cardiology(ABC).csv\", index=False, encoding='utf-8-sig')\n",
    "df[df[\"Doctor\"] == \"Dr. DEF (Neurologist)\"].to_csv(\"Neurology(DEF).csv\", index=False, encoding='utf-8-sig')\n",
    "df[df[\"Doctor\"] == \"Dr. GHI (Pulmonologist)\"].to_csv(\"Pulmonology(GHI).csv\", index=False, encoding='utf-8-sig')\n",
    "df[df[\"Doctor\"] == \"Dr. JKL (Gastroenterologist)\"].to_csv(\"Gastroenterology(JKL).csv\", index=False, encoding='utf-8-sig')\n",
    "df[df[\"Doctor\"] == \"Dr. MNO (Orthopedist)\"].to_csv(\"Orthopedic(MNO).csv\", index=False, encoding='utf-8-sig')\n",
    "df[df[\"Doctor\"] == \"Dr. PQR (General physician)\"].to_csv(\"physician(PQR).csv\", index=False, encoding='utf-8-sig')\n",
    "\n",
    "df[[\"Names\", \"token no.\", \"Doctor\"]].to_csv(\"Patient_Display.csv\", index=False, encoding='utf-8-sig')\n"
   ]
  },
  {
   "cell_type": "code",
   "execution_count": null,
   "id": "de0a70ee-275c-4047-94e8-84c2b1ba1691",
   "metadata": {},
   "outputs": [],
   "source": []
  }
 ],
 "metadata": {
  "kernelspec": {
   "display_name": "Python (Whisper)",
   "language": "python",
   "name": "whisper_env"
  },
  "language_info": {
   "codemirror_mode": {
    "name": "ipython",
    "version": 3
   },
   "file_extension": ".py",
   "mimetype": "text/x-python",
   "name": "python",
   "nbconvert_exporter": "python",
   "pygments_lexer": "ipython3",
   "version": "3.12.3"
  }
 },
 "nbformat": 4,
 "nbformat_minor": 5
}
